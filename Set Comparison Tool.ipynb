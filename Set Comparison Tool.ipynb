{
 "cells": [
  {
   "cell_type": "markdown",
   "id": "864c3118-cbed-429e-aa19-ab5bf535e9e3",
   "metadata": {},
   "source": [
    "# Set Comparison Tool\n",
    "Create a program that allows users to input two sets of integers. The program should then:\n",
    "\n",
    "Display the union, intersection, and difference of the sets.\n",
    "Determine whether one set is a subset of the other."
   ]
  },
  {
   "cell_type": "code",
   "execution_count": null,
   "id": "1a416ded-6d30-47d4-bc48-f34e8a10f480",
   "metadata": {},
   "outputs": [],
   "source": [
    "set1_input = input(\"Enter integers separated by spaces for the first set: \")\n",
    "set1 = set(map(int, set1_input.split()))\n",
    "\n",
    "set2_input = input(\"Enter integers separated by spaces for the second set: \")\n",
    "set2 = set(map(int, set2_input.split()))\n",
    "\n",
    "\n",
    "union = set1 | set2\n",
    "intersection = set1 & set2 \n",
    "difference1 = set1 - set2\n",
    "difference2 = set2 - set1\n",
    "\n",
    "is_subset_1_to_2 = set1 <= set2\n",
    "is_subset_2_to_1 = set2 <= set1\n",
    "\n",
    "print(\"Set 1:\" + str( set1))\n",
    "print(\"Set 2:\" + str( set2))\n",
    "print()\n",
    "print(\"Union:\" + str( union))\n",
    "print(\"Intersection:\" + str( intersection))\n",
    "print(\"Difference (Set1 - Set2):\" + str( difference1))\n",
    "print(\"Difference (Set2 - Set1):\" + str( difference2))\n",
    "print()\n",
    "\n",
    "print(\"Is Set1 a subset of Set2?\", is_subset_1_to_2)\n",
    "print(\"Is Set2 a subset of Set1?\", is_subset_2_to_1)\n"
   ]
  }
 ],
 "metadata": {
  "kernelspec": {
   "display_name": "Python 3 (ipykernel)",
   "language": "python",
   "name": "python3"
  },
  "language_info": {
   "codemirror_mode": {
    "name": "ipython",
    "version": 3
   },
   "file_extension": ".py",
   "mimetype": "text/x-python",
   "name": "python",
   "nbconvert_exporter": "python",
   "pygments_lexer": "ipython3",
   "version": "3.11.5"
  }
 },
 "nbformat": 4,
 "nbformat_minor": 5
}
